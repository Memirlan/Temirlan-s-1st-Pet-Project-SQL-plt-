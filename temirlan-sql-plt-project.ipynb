{
 "cells": [
  {
   "cell_type": "markdown",
   "id": "64c7a670",
   "metadata": {
    "papermill": {
     "duration": 0.018524,
     "end_time": "2022-01-20T06:08:45.464829",
     "exception": false,
     "start_time": "2022-01-20T06:08:45.446305",
     "status": "completed"
    },
    "tags": []
   },
   "source": [
    "# Temirlan Kaiyrbekov First Pet Project using SQL through the bigquery library and matplotlib\n",
    "## Finished on 20/12/2021"
   ]
  },
  {
   "cell_type": "markdown",
   "id": "5435dd53",
   "metadata": {
    "papermill": {
     "duration": 0.017206,
     "end_time": "2022-01-20T06:08:45.499671",
     "exception": false,
     "start_time": "2022-01-20T06:08:45.482465",
     "status": "completed"
    },
    "tags": []
   },
   "source": [
    "### This notebook is written in Kaggle. It has bigquery system integrated, so there are no needs to pre-install bigquery library. Using it is more tedious for Jupyter or Google Colab."
   ]
  },
  {
   "cell_type": "markdown",
   "id": "b7c5ee3b",
   "metadata": {
    "papermill": {
     "duration": 0.016999,
     "end_time": "2022-01-20T06:08:45.534017",
     "exception": false,
     "start_time": "2022-01-20T06:08:45.517018",
     "status": "completed"
    },
    "tags": []
   },
   "source": [
    "### First of all, the two following libraries should be imported to clean and transform data, and plot graph using dataframe that we get in the process"
   ]
  },
  {
   "cell_type": "code",
   "execution_count": 1,
   "id": "71b091ee",
   "metadata": {
    "execution": {
     "iopub.execute_input": "2022-01-20T06:08:45.574856Z",
     "iopub.status.busy": "2022-01-20T06:08:45.573072Z",
     "iopub.status.idle": "2022-01-20T06:08:45.584405Z",
     "shell.execute_reply": "2022-01-20T06:08:45.584916Z",
     "shell.execute_reply.started": "2021-12-29T15:28:27.38863Z"
    },
    "papermill": {
     "duration": 0.033855,
     "end_time": "2022-01-20T06:08:45.585218",
     "exception": false,
     "start_time": "2022-01-20T06:08:45.551363",
     "status": "completed"
    },
    "tags": []
   },
   "outputs": [],
   "source": [
    "from google.cloud import bigquery"
   ]
  },
  {
   "cell_type": "code",
   "execution_count": 2,
   "id": "2db7bd71",
   "metadata": {
    "execution": {
     "iopub.execute_input": "2022-01-20T06:08:45.624407Z",
     "iopub.status.busy": "2022-01-20T06:08:45.623404Z",
     "iopub.status.idle": "2022-01-20T06:08:45.626880Z",
     "shell.execute_reply": "2022-01-20T06:08:45.627310Z",
     "shell.execute_reply.started": "2021-12-29T15:28:27.414036Z"
    },
    "papermill": {
     "duration": 0.02444,
     "end_time": "2022-01-20T06:08:45.627485",
     "exception": false,
     "start_time": "2022-01-20T06:08:45.603045",
     "status": "completed"
    },
    "tags": []
   },
   "outputs": [],
   "source": [
    "import matplotlib.pyplot as plt"
   ]
  },
  {
   "cell_type": "markdown",
   "id": "a48216c2",
   "metadata": {
    "papermill": {
     "duration": 0.017077,
     "end_time": "2022-01-20T06:08:45.661942",
     "exception": false,
     "start_time": "2022-01-20T06:08:45.644865",
     "status": "completed"
    },
    "tags": []
   },
   "source": [
    "### Definition of the \"client\" object that will contain \"bigquery-public-data\" project"
   ]
  },
  {
   "cell_type": "code",
   "execution_count": 3,
   "id": "b07d8176",
   "metadata": {
    "execution": {
     "iopub.execute_input": "2022-01-20T06:08:45.700592Z",
     "iopub.status.busy": "2022-01-20T06:08:45.699579Z",
     "iopub.status.idle": "2022-01-20T06:08:45.704339Z",
     "shell.execute_reply": "2022-01-20T06:08:45.704840Z",
     "shell.execute_reply.started": "2021-12-29T15:28:35.99138Z"
    },
    "papermill": {
     "duration": 0.025731,
     "end_time": "2022-01-20T06:08:45.705005",
     "exception": false,
     "start_time": "2022-01-20T06:08:45.679274",
     "status": "completed"
    },
    "tags": []
   },
   "outputs": [
    {
     "name": "stdout",
     "output_type": "stream",
     "text": [
      "Using Kaggle's public dataset BigQuery integration.\n"
     ]
    }
   ],
   "source": [
    "client = bigquery.Client()"
   ]
  },
  {
   "cell_type": "markdown",
   "id": "ff68d882",
   "metadata": {
    "papermill": {
     "duration": 0.017783,
     "end_time": "2022-01-20T06:08:45.740777",
     "exception": false,
     "start_time": "2022-01-20T06:08:45.722994",
     "status": "completed"
    },
    "tags": []
   },
   "source": [
    "### Next, a reference to a dataset \"chicago_taxi_trips\" that will be contained inside of my project is created"
   ]
  },
  {
   "cell_type": "code",
   "execution_count": 4,
   "id": "2676af5d",
   "metadata": {
    "execution": {
     "iopub.execute_input": "2022-01-20T06:08:45.780038Z",
     "iopub.status.busy": "2022-01-20T06:08:45.779373Z",
     "iopub.status.idle": "2022-01-20T06:08:45.782804Z",
     "shell.execute_reply": "2022-01-20T06:08:45.783325Z",
     "shell.execute_reply.started": "2021-12-29T15:28:42.4469Z"
    },
    "papermill": {
     "duration": 0.024466,
     "end_time": "2022-01-20T06:08:45.783485",
     "exception": false,
     "start_time": "2022-01-20T06:08:45.759019",
     "status": "completed"
    },
    "tags": []
   },
   "outputs": [],
   "source": [
    "dataset_ref = client.dataset(\"chicago_taxi_trips\", project = \"bigquery-public-data\")"
   ]
  },
  {
   "cell_type": "markdown",
   "id": "e7714d30",
   "metadata": {
    "papermill": {
     "duration": 0.017532,
     "end_time": "2022-01-20T06:08:45.818869",
     "exception": false,
     "start_time": "2022-01-20T06:08:45.801337",
     "status": "completed"
    },
    "tags": []
   },
   "source": [
    "### A \"dataset\" variable is created that will get the dataset pointed by the reference"
   ]
  },
  {
   "cell_type": "code",
   "execution_count": 5,
   "id": "1284082f",
   "metadata": {
    "execution": {
     "iopub.execute_input": "2022-01-20T06:08:45.860416Z",
     "iopub.status.busy": "2022-01-20T06:08:45.859441Z",
     "iopub.status.idle": "2022-01-20T06:08:46.470918Z",
     "shell.execute_reply": "2022-01-20T06:08:46.471453Z",
     "shell.execute_reply.started": "2021-12-29T15:28:58.984859Z"
    },
    "papermill": {
     "duration": 0.635167,
     "end_time": "2022-01-20T06:08:46.471625",
     "exception": false,
     "start_time": "2022-01-20T06:08:45.836458",
     "status": "completed"
    },
    "tags": []
   },
   "outputs": [],
   "source": [
    "dataset = client.get_dataset(dataset_ref)"
   ]
  },
  {
   "cell_type": "markdown",
   "id": "6dd259b9",
   "metadata": {
    "papermill": {
     "duration": 0.017337,
     "end_time": "2022-01-20T06:08:46.506659",
     "exception": false,
     "start_time": "2022-01-20T06:08:46.489322",
     "status": "completed"
    },
    "tags": []
   },
   "source": [
    "### The next few lines show that my dataset contains only one table \"taxi_trips"
   ]
  },
  {
   "cell_type": "code",
   "execution_count": 6,
   "id": "9e245e51",
   "metadata": {
    "execution": {
     "iopub.execute_input": "2022-01-20T06:08:46.550528Z",
     "iopub.status.busy": "2022-01-20T06:08:46.549874Z",
     "iopub.status.idle": "2022-01-20T06:08:47.111232Z",
     "shell.execute_reply": "2022-01-20T06:08:47.110617Z",
     "shell.execute_reply.started": "2021-12-29T15:29:02.837898Z"
    },
    "papermill": {
     "duration": 0.587085,
     "end_time": "2022-01-20T06:08:47.111401",
     "exception": false,
     "start_time": "2022-01-20T06:08:46.524316",
     "status": "completed"
    },
    "tags": []
   },
   "outputs": [
    {
     "name": "stdout",
     "output_type": "stream",
     "text": [
      "taxi_trips\n"
     ]
    }
   ],
   "source": [
    "tables = list(client.list_tables(dataset))\n",
    "for i in tables:\n",
    "    print(i.table_id)"
   ]
  },
  {
   "cell_type": "markdown",
   "id": "75e2a31c",
   "metadata": {
    "papermill": {
     "duration": 0.018222,
     "end_time": "2022-01-20T06:08:47.148586",
     "exception": false,
     "start_time": "2022-01-20T06:08:47.130364",
     "status": "completed"
    },
    "tags": []
   },
   "source": [
    "### As with the dataset, table variable gets the information of \"taxi_trips\" table through referencing. Then, its first five rows are showed"
   ]
  },
  {
   "cell_type": "code",
   "execution_count": 7,
   "id": "82642153",
   "metadata": {
    "execution": {
     "iopub.execute_input": "2022-01-20T06:08:47.194635Z",
     "iopub.status.busy": "2022-01-20T06:08:47.193944Z",
     "iopub.status.idle": "2022-01-20T06:08:48.360096Z",
     "shell.execute_reply": "2022-01-20T06:08:48.359484Z",
     "shell.execute_reply.started": "2021-12-29T15:29:06.622435Z"
    },
    "papermill": {
     "duration": 1.19307,
     "end_time": "2022-01-20T06:08:48.360263",
     "exception": false,
     "start_time": "2022-01-20T06:08:47.167193",
     "status": "completed"
    },
    "tags": []
   },
   "outputs": [
    {
     "name": "stderr",
     "output_type": "stream",
     "text": [
      "/opt/conda/lib/python3.7/site-packages/ipykernel_launcher.py:4: UserWarning: Cannot use bqstorage_client if max_results is set, reverting to fetching data with the tabledata.list endpoint.\n",
      "  after removing the cwd from sys.path.\n"
     ]
    },
    {
     "data": {
      "text/html": [
       "<div>\n",
       "<style scoped>\n",
       "    .dataframe tbody tr th:only-of-type {\n",
       "        vertical-align: middle;\n",
       "    }\n",
       "\n",
       "    .dataframe tbody tr th {\n",
       "        vertical-align: top;\n",
       "    }\n",
       "\n",
       "    .dataframe thead th {\n",
       "        text-align: right;\n",
       "    }\n",
       "</style>\n",
       "<table border=\"1\" class=\"dataframe\">\n",
       "  <thead>\n",
       "    <tr style=\"text-align: right;\">\n",
       "      <th></th>\n",
       "      <th>unique_key</th>\n",
       "      <th>taxi_id</th>\n",
       "      <th>trip_start_timestamp</th>\n",
       "      <th>trip_end_timestamp</th>\n",
       "      <th>trip_seconds</th>\n",
       "      <th>trip_miles</th>\n",
       "      <th>pickup_census_tract</th>\n",
       "      <th>dropoff_census_tract</th>\n",
       "      <th>pickup_community_area</th>\n",
       "      <th>dropoff_community_area</th>\n",
       "      <th>...</th>\n",
       "      <th>extras</th>\n",
       "      <th>trip_total</th>\n",
       "      <th>payment_type</th>\n",
       "      <th>company</th>\n",
       "      <th>pickup_latitude</th>\n",
       "      <th>pickup_longitude</th>\n",
       "      <th>pickup_location</th>\n",
       "      <th>dropoff_latitude</th>\n",
       "      <th>dropoff_longitude</th>\n",
       "      <th>dropoff_location</th>\n",
       "    </tr>\n",
       "  </thead>\n",
       "  <tbody>\n",
       "    <tr>\n",
       "      <th>0</th>\n",
       "      <td>3190243aa353d190bf2e5f366cd61617fa96f6a8</td>\n",
       "      <td>9d4a0cf00e9283302f40800a5da6e7017db07876ff895d...</td>\n",
       "      <td>2015-08-26 11:15:00+00:00</td>\n",
       "      <td>2015-08-26 11:15:00+00:00</td>\n",
       "      <td>0</td>\n",
       "      <td>0.0</td>\n",
       "      <td>NaN</td>\n",
       "      <td>NaN</td>\n",
       "      <td>NaN</td>\n",
       "      <td>NaN</td>\n",
       "      <td>...</td>\n",
       "      <td>0.0</td>\n",
       "      <td>7.31</td>\n",
       "      <td>Credit Card</td>\n",
       "      <td>Chicago Elite Cab Corp. (Chicago Carriag</td>\n",
       "      <td>NaN</td>\n",
       "      <td>NaN</td>\n",
       "      <td>None</td>\n",
       "      <td>NaN</td>\n",
       "      <td>NaN</td>\n",
       "      <td>None</td>\n",
       "    </tr>\n",
       "    <tr>\n",
       "      <th>1</th>\n",
       "      <td>6d5b6e5f3e5397f08e770beeb5f34433b0491d12</td>\n",
       "      <td>c2ca667849d5b9c2d10a15bf7e6a6ab358ab7a98cce37b...</td>\n",
       "      <td>2014-08-01 21:45:00+00:00</td>\n",
       "      <td>2014-08-01 21:45:00+00:00</td>\n",
       "      <td>0</td>\n",
       "      <td>0.0</td>\n",
       "      <td>NaN</td>\n",
       "      <td>NaN</td>\n",
       "      <td>NaN</td>\n",
       "      <td>NaN</td>\n",
       "      <td>...</td>\n",
       "      <td>0.0</td>\n",
       "      <td>8.45</td>\n",
       "      <td>Credit Card</td>\n",
       "      <td>T.A.S. - Payment Only</td>\n",
       "      <td>NaN</td>\n",
       "      <td>NaN</td>\n",
       "      <td>None</td>\n",
       "      <td>NaN</td>\n",
       "      <td>NaN</td>\n",
       "      <td>None</td>\n",
       "    </tr>\n",
       "    <tr>\n",
       "      <th>2</th>\n",
       "      <td>980c986313ec13a9d59412826c83bfa65e01d0c3</td>\n",
       "      <td>60e9b32a85d0045d670d329891f51b9796543659769e9a...</td>\n",
       "      <td>2014-08-01 18:45:00+00:00</td>\n",
       "      <td>2014-08-01 18:45:00+00:00</td>\n",
       "      <td>0</td>\n",
       "      <td>0.0</td>\n",
       "      <td>NaN</td>\n",
       "      <td>NaN</td>\n",
       "      <td>NaN</td>\n",
       "      <td>NaN</td>\n",
       "      <td>...</td>\n",
       "      <td>0.0</td>\n",
       "      <td>8.05</td>\n",
       "      <td>Credit Card</td>\n",
       "      <td>T.A.S. - Payment Only</td>\n",
       "      <td>NaN</td>\n",
       "      <td>NaN</td>\n",
       "      <td>None</td>\n",
       "      <td>NaN</td>\n",
       "      <td>NaN</td>\n",
       "      <td>None</td>\n",
       "    </tr>\n",
       "    <tr>\n",
       "      <th>3</th>\n",
       "      <td>29aea409062ff5c29c33fecff902acd8e58e5e0f</td>\n",
       "      <td>73f6888d8d8f9808f6624377edfa1e2a0a574b06eafbc9...</td>\n",
       "      <td>2014-07-31 09:45:00+00:00</td>\n",
       "      <td>2014-07-31 09:45:00+00:00</td>\n",
       "      <td>0</td>\n",
       "      <td>0.0</td>\n",
       "      <td>NaN</td>\n",
       "      <td>NaN</td>\n",
       "      <td>NaN</td>\n",
       "      <td>NaN</td>\n",
       "      <td>...</td>\n",
       "      <td>0.0</td>\n",
       "      <td>12.06</td>\n",
       "      <td>Credit Card</td>\n",
       "      <td>Chicago Elite Cab Corp. (Chicago Carriag</td>\n",
       "      <td>NaN</td>\n",
       "      <td>NaN</td>\n",
       "      <td>None</td>\n",
       "      <td>NaN</td>\n",
       "      <td>NaN</td>\n",
       "      <td>None</td>\n",
       "    </tr>\n",
       "    <tr>\n",
       "      <th>4</th>\n",
       "      <td>e83f8835694883f25c11fc70bdf8443b5c68448f</td>\n",
       "      <td>55af2e70fd4624a43fea70121974c54db44c8e7582ce3d...</td>\n",
       "      <td>2014-07-16 08:45:00+00:00</td>\n",
       "      <td>2014-07-16 08:45:00+00:00</td>\n",
       "      <td>0</td>\n",
       "      <td>0.0</td>\n",
       "      <td>NaN</td>\n",
       "      <td>NaN</td>\n",
       "      <td>NaN</td>\n",
       "      <td>NaN</td>\n",
       "      <td>...</td>\n",
       "      <td>1.0</td>\n",
       "      <td>4.25</td>\n",
       "      <td>Cash</td>\n",
       "      <td>Blue Ribbon Taxi Association Inc.</td>\n",
       "      <td>NaN</td>\n",
       "      <td>NaN</td>\n",
       "      <td>None</td>\n",
       "      <td>NaN</td>\n",
       "      <td>NaN</td>\n",
       "      <td>None</td>\n",
       "    </tr>\n",
       "  </tbody>\n",
       "</table>\n",
       "<p>5 rows × 23 columns</p>\n",
       "</div>"
      ],
      "text/plain": [
       "                                 unique_key  \\\n",
       "0  3190243aa353d190bf2e5f366cd61617fa96f6a8   \n",
       "1  6d5b6e5f3e5397f08e770beeb5f34433b0491d12   \n",
       "2  980c986313ec13a9d59412826c83bfa65e01d0c3   \n",
       "3  29aea409062ff5c29c33fecff902acd8e58e5e0f   \n",
       "4  e83f8835694883f25c11fc70bdf8443b5c68448f   \n",
       "\n",
       "                                             taxi_id  \\\n",
       "0  9d4a0cf00e9283302f40800a5da6e7017db07876ff895d...   \n",
       "1  c2ca667849d5b9c2d10a15bf7e6a6ab358ab7a98cce37b...   \n",
       "2  60e9b32a85d0045d670d329891f51b9796543659769e9a...   \n",
       "3  73f6888d8d8f9808f6624377edfa1e2a0a574b06eafbc9...   \n",
       "4  55af2e70fd4624a43fea70121974c54db44c8e7582ce3d...   \n",
       "\n",
       "       trip_start_timestamp        trip_end_timestamp  trip_seconds  \\\n",
       "0 2015-08-26 11:15:00+00:00 2015-08-26 11:15:00+00:00             0   \n",
       "1 2014-08-01 21:45:00+00:00 2014-08-01 21:45:00+00:00             0   \n",
       "2 2014-08-01 18:45:00+00:00 2014-08-01 18:45:00+00:00             0   \n",
       "3 2014-07-31 09:45:00+00:00 2014-07-31 09:45:00+00:00             0   \n",
       "4 2014-07-16 08:45:00+00:00 2014-07-16 08:45:00+00:00             0   \n",
       "\n",
       "   trip_miles  pickup_census_tract  dropoff_census_tract  \\\n",
       "0         0.0                  NaN                   NaN   \n",
       "1         0.0                  NaN                   NaN   \n",
       "2         0.0                  NaN                   NaN   \n",
       "3         0.0                  NaN                   NaN   \n",
       "4         0.0                  NaN                   NaN   \n",
       "\n",
       "   pickup_community_area  dropoff_community_area  ...  extras  trip_total  \\\n",
       "0                    NaN                     NaN  ...     0.0        7.31   \n",
       "1                    NaN                     NaN  ...     0.0        8.45   \n",
       "2                    NaN                     NaN  ...     0.0        8.05   \n",
       "3                    NaN                     NaN  ...     0.0       12.06   \n",
       "4                    NaN                     NaN  ...     1.0        4.25   \n",
       "\n",
       "   payment_type                                   company  pickup_latitude  \\\n",
       "0   Credit Card  Chicago Elite Cab Corp. (Chicago Carriag              NaN   \n",
       "1   Credit Card                     T.A.S. - Payment Only              NaN   \n",
       "2   Credit Card                     T.A.S. - Payment Only              NaN   \n",
       "3   Credit Card  Chicago Elite Cab Corp. (Chicago Carriag              NaN   \n",
       "4          Cash         Blue Ribbon Taxi Association Inc.              NaN   \n",
       "\n",
       "  pickup_longitude pickup_location  dropoff_latitude  dropoff_longitude  \\\n",
       "0              NaN            None               NaN                NaN   \n",
       "1              NaN            None               NaN                NaN   \n",
       "2              NaN            None               NaN                NaN   \n",
       "3              NaN            None               NaN                NaN   \n",
       "4              NaN            None               NaN                NaN   \n",
       "\n",
       "  dropoff_location  \n",
       "0             None  \n",
       "1             None  \n",
       "2             None  \n",
       "3             None  \n",
       "4             None  \n",
       "\n",
       "[5 rows x 23 columns]"
      ]
     },
     "execution_count": 7,
     "metadata": {},
     "output_type": "execute_result"
    }
   ],
   "source": [
    "table_ref = dataset_ref.table(\"taxi_trips\")\n",
    "table = client.get_table(table_ref)\n",
    "# The command below outputs the first five rows converted to a pandas dataframe\n",
    "client.list_rows(table, max_results = 5).to_dataframe()"
   ]
  },
  {
   "cell_type": "markdown",
   "id": "bcbf30ee",
   "metadata": {
    "papermill": {
     "duration": 0.019118,
     "end_time": "2022-01-20T06:08:48.399069",
     "exception": false,
     "start_time": "2022-01-20T06:08:48.379951",
     "status": "completed"
    },
    "tags": []
   },
   "source": [
    "### Then, a \"ridesperyear\" SQL query is initiated. It groups rows by \"year\" variable that we extract from the \"trip_start_timestamp\" column. Also, it counts the number of trips, thus, giving us a table of taxi trips that were made in every year in Chicago."
   ]
  },
  {
   "cell_type": "code",
   "execution_count": 8,
   "id": "71d96b22",
   "metadata": {
    "execution": {
     "iopub.execute_input": "2022-01-20T06:08:48.441560Z",
     "iopub.status.busy": "2022-01-20T06:08:48.440647Z",
     "iopub.status.idle": "2022-01-20T06:08:51.324057Z",
     "shell.execute_reply": "2022-01-20T06:08:51.324529Z",
     "shell.execute_reply.started": "2021-12-29T15:29:16.535712Z"
    },
    "papermill": {
     "duration": 2.906339,
     "end_time": "2022-01-20T06:08:51.324701",
     "exception": false,
     "start_time": "2022-01-20T06:08:48.418362",
     "status": "completed"
    },
    "tags": []
   },
   "outputs": [
    {
     "name": "stderr",
     "output_type": "stream",
     "text": [
      "/opt/conda/lib/python3.7/site-packages/google/cloud/bigquery/client.py:440: UserWarning: Cannot create BigQuery Storage client, the dependency google-cloud-bigquery-storage is not installed.\n",
      "  \"Cannot create BigQuery Storage client, the dependency \"\n"
     ]
    },
    {
     "name": "stdout",
     "output_type": "stream",
     "text": [
      "   year  num_trips\n",
      "0  2013   27217716\n",
      "1  2014   37395436\n",
      "2  2015   32385875\n",
      "3  2016   31759339\n",
      "4  2017   24988003\n",
      "5  2018   20732088\n",
      "6  2019   16477365\n",
      "7  2020    3889032\n",
      "8  2021    3948019\n",
      "9  2022         30\n"
     ]
    }
   ],
   "source": [
    "ridesperyear = \"\"\"\n",
    "                SELECT EXTRACT(YEAR FROM trip_start_timestamp) as year, COUNT(1) as num_trips\n",
    "                FROM `bigquery-public-data.chicago_taxi_trips.taxi_trips`\n",
    "                GROUP BY year\n",
    "                ORDER BY year\n",
    "\"\"\"\n",
    "# The two lines below limit the memory usage of the query to 10^10 bytes (10 GB).\n",
    "# In case the limit is exceeded, it will output an error warning.\n",
    "safe_config = bigquery.QueryJobConfig(maximum_bytes_billed = 10**10)\n",
    "ridesperyear_query_job = client.query(ridesperyear, job_config = safe_config)\n",
    "\n",
    "ridesperyear_result = ridesperyear_query_job.to_dataframe()\n",
    "print(ridesperyear_result)"
   ]
  },
  {
   "cell_type": "markdown",
   "id": "17102a12",
   "metadata": {
    "papermill": {
     "duration": 0.020204,
     "end_time": "2022-01-20T06:08:51.365052",
     "exception": false,
     "start_time": "2022-01-20T06:08:51.344848",
     "status": "completed"
    },
    "tags": []
   },
   "source": [
    "### It can be seen that, in general patterns, number of trips per every year do not vary much except for the last two years. However, it is best shown in a bar chart."
   ]
  },
  {
   "cell_type": "code",
   "execution_count": 9,
   "id": "1081fe4d",
   "metadata": {
    "execution": {
     "iopub.execute_input": "2022-01-20T06:08:51.410891Z",
     "iopub.status.busy": "2022-01-20T06:08:51.410181Z",
     "iopub.status.idle": "2022-01-20T06:08:51.688198Z",
     "shell.execute_reply": "2022-01-20T06:08:51.688706Z",
     "shell.execute_reply.started": "2021-12-29T15:29:35.50372Z"
    },
    "papermill": {
     "duration": 0.303816,
     "end_time": "2022-01-20T06:08:51.688930",
     "exception": false,
     "start_time": "2022-01-20T06:08:51.385114",
     "status": "completed"
    },
    "tags": []
   },
   "outputs": [
    {
     "data": {
      "image/png": "[encoded data removed]",
      "text/plain": [
       "<Figure size 432x288 with 1 Axes>"
      ]
     },
     "metadata": {
      "needs_background": "light"
     },
     "output_type": "display_data"
    }
   ],
   "source": [
    "ridesperyear_result.plot(x ='year', y='num_trips', kind = 'bar')\n",
    "plt.show()"
   ]
  },
  {
   "cell_type": "markdown",
   "id": "28827ccc",
   "metadata": {
    "papermill": {
     "duration": 0.021337,
     "end_time": "2022-01-20T06:08:51.731858",
     "exception": false,
     "start_time": "2022-01-20T06:08:51.710521",
     "status": "completed"
    },
    "tags": []
   },
   "source": [
    "### It is seen that the last two years show a dramatic decrease in the number of taxi trips. From these data, we can hypothesize that COVID-19 might be the prima facie reason for such a sharp change. However, this hypothesis is made based only on the correlation. Its proof would need a different kind of research."
   ]
  },
  {
   "cell_type": "markdown",
   "id": "d50a50c0",
   "metadata": {
    "papermill": {
     "duration": 0.022352,
     "end_time": "2022-01-20T06:08:51.776327",
     "exception": false,
     "start_time": "2022-01-20T06:08:51.753975",
     "status": "completed"
    },
    "tags": []
   },
   "source": [
    "### From the given data, we can also find out the distribution of average speeds and number of trips during a day in the first half of the 2017 year. The following query uses WITH/AS syntax for convenience. It outputs a table with three columns (hour_of_day [0-23], num_trips, avg_mph). The latter is calculated by using an aggregate function SUM: it divides the sum of the trip miles by the sum of trip seconds and multiplies all by 3600 to give average miles per hour instead of seconds."
   ]
  },
  {
   "cell_type": "code",
   "execution_count": 10,
   "id": "848fb7ee",
   "metadata": {
    "execution": {
     "iopub.execute_input": "2022-01-20T06:08:51.829287Z",
     "iopub.status.busy": "2022-01-20T06:08:51.828417Z",
     "iopub.status.idle": "2022-01-20T06:08:53.824406Z",
     "shell.execute_reply": "2022-01-20T06:08:53.825338Z",
     "shell.execute_reply.started": "2021-12-29T15:29:42.769991Z"
    },
    "papermill": {
     "duration": 2.027911,
     "end_time": "2022-01-20T06:08:53.825596",
     "exception": false,
     "start_time": "2022-01-20T06:08:51.797685",
     "status": "completed"
    },
    "tags": []
   },
   "outputs": [
    {
     "name": "stderr",
     "output_type": "stream",
     "text": [
      "/opt/conda/lib/python3.7/site-packages/google/cloud/bigquery/client.py:440: UserWarning: Cannot create BigQuery Storage client, the dependency google-cloud-bigquery-storage is not installed.\n",
      "  \"Cannot create BigQuery Storage client, the dependency \"\n"
     ]
    },
    {
     "name": "stdout",
     "output_type": "stream",
     "text": [
      "    hour_of_day  num_trips    avg_mph\n",
      "0             0     319339  20.230524\n",
      "1             1     266529  18.937621\n",
      "2             2     210147  18.777070\n",
      "3             3     159668  20.158048\n",
      "4             4     122183  26.736014\n",
      "5             5     119312  30.769172\n",
      "6             6     182738  24.588313\n",
      "7             7     358406  17.735967\n",
      "8             8     541775  15.079892\n",
      "9             9     565548  16.543882\n",
      "10           10     525120  18.539614\n",
      "11           11     594603  18.928379\n",
      "12           12     622324  17.838745\n",
      "13           13     630181  17.671089\n",
      "14           14     622465  16.974239\n",
      "15           15     640430  15.688418\n",
      "16           16     701435  14.283888\n",
      "17           17     756627  12.462955\n",
      "18           18     768251  13.646810\n",
      "19           19     701064  16.642882\n",
      "20           20     598614  19.536777\n",
      "21           21     552726  20.433874\n",
      "22           22     501095  19.531374\n",
      "23           23     399587  19.877046\n"
     ]
    }
   ],
   "source": [
    "speeds_query = \"\"\"\n",
    "                WITH RelevantRides AS\n",
    "                (\n",
    "                    SELECT EXTRACT(HOUR FROM trip_start_timestamp) as hour_of_day,\n",
    "                    trip_miles,\n",
    "                    trip_seconds\n",
    "                    FROM `bigquery-public-data.chicago_taxi_trips.taxi_trips`\n",
    "                    WHERE\n",
    "                        trip_start_timestamp > '2017-01-01' and\n",
    "                        trip_start_timestamp < '2017-07-01' and\n",
    "                        EXTRACT(YEAR FROM trip_start_timestamp)=2017 and\n",
    "                        trip_seconds > 0 and\n",
    "                        trip_miles > 0\n",
    "                )\n",
    "                SELECT hour_of_day, COUNT(1) as num_trips, 3600*SUM(trip_miles)/SUM(trip_seconds) as avg_mph\n",
    "                FROM RelevantRides\n",
    "                GROUP BY hour_of_day\n",
    "                ORDER BY hour_of_day\n",
    "\"\"\"\n",
    "\n",
    "safe_config = bigquery.QueryJobConfig(maximum_bytes_billed = 10**10)\n",
    "speeds_query_job = client.query(speeds_query, job_config = safe_config)\n",
    "\n",
    "speeds_result = speeds_query_job.to_dataframe()\n",
    "print(speeds_result)"
   ]
  },
  {
   "cell_type": "markdown",
   "id": "f18f1b8d",
   "metadata": {
    "papermill": {
     "duration": 0.021745,
     "end_time": "2022-01-20T06:08:53.870353",
     "exception": false,
     "start_time": "2022-01-20T06:08:53.848608",
     "status": "completed"
    },
    "tags": []
   },
   "source": [
    "### Again, for a better view, plots (num_trips VS hour_of_day) and (avg_miles VS hour_of_day) are constructed."
   ]
  },
  {
   "cell_type": "code",
   "execution_count": 11,
   "id": "a8a5955d",
   "metadata": {
    "execution": {
     "iopub.execute_input": "2022-01-20T06:08:53.919554Z",
     "iopub.status.busy": "2022-01-20T06:08:53.918815Z",
     "iopub.status.idle": "2022-01-20T06:08:54.331430Z",
     "shell.execute_reply": "2022-01-20T06:08:54.330677Z",
     "shell.execute_reply.started": "2021-12-29T15:29:48.686038Z"
    },
    "papermill": {
     "duration": 0.438271,
     "end_time": "2022-01-20T06:08:54.331577",
     "exception": false,
     "start_time": "2022-01-20T06:08:53.893306",
     "status": "completed"
    },
    "tags": []
   },
   "outputs": [
    {
     "data": {
      "image/png": "[encoded data removed]",
      "text/plain": [
       "<Figure size 432x288 with 1 Axes>"
      ]
     },
     "metadata": {
      "needs_background": "light"
     },
     "output_type": "display_data"
    }
   ],
   "source": [
    "speeds_result.plot(x ='hour_of_day', y='num_trips', kind = 'bar')\n",
    "plt.show()"
   ]
  },
  {
   "cell_type": "markdown",
   "id": "3912f5ad",
   "metadata": {
    "papermill": {
     "duration": 0.021717,
     "end_time": "2022-01-20T06:08:54.375359",
     "exception": false,
     "start_time": "2022-01-20T06:08:54.353642",
     "status": "completed"
    },
    "tags": []
   },
   "source": [
    "### Interesting insights can be inferred from the above table. For instance, taxies are at their busiest towards evening. Also, the numbers starts to sharply rise towards 8 AM (probably because people call a taxi to get to the work). "
   ]
  },
  {
   "cell_type": "code",
   "execution_count": 12,
   "id": "3f8f96c7",
   "metadata": {
    "execution": {
     "iopub.execute_input": "2022-01-20T06:08:54.450182Z",
     "iopub.status.busy": "2022-01-20T06:08:54.442577Z",
     "iopub.status.idle": "2022-01-20T06:08:54.737031Z",
     "shell.execute_reply": "2022-01-20T06:08:54.736385Z",
     "shell.execute_reply.started": "2021-12-19T21:44:24.870212Z"
    },
    "papermill": {
     "duration": 0.339657,
     "end_time": "2022-01-20T06:08:54.737169",
     "exception": false,
     "start_time": "2022-01-20T06:08:54.397512",
     "status": "completed"
    },
    "tags": []
   },
   "outputs": [
    {
     "data": {
      "image/png": "[encoded data removed]",
      "text/plain": [
       "<Figure size 432x288 with 1 Axes>"
      ]
     },
     "metadata": {
      "needs_background": "light"
     },
     "output_type": "display_data"
    }
   ],
   "source": [
    "speeds_result.plot(x ='hour_of_day', y='avg_mph', kind = 'bar')\n",
    "plt.show()"
   ]
  },
  {
   "cell_type": "markdown",
   "id": "9ceac145",
   "metadata": {
    "papermill": {
     "duration": 0.022787,
     "end_time": "2022-01-20T06:08:54.783015",
     "exception": false,
     "start_time": "2022-01-20T06:08:54.760228",
     "status": "completed"
    },
    "tags": []
   },
   "source": [
    "### The last plot does not show any exceptional variations in speed except for the very late morning time. If we look at the chart above it, there is a correlation in average speed and the number of trips in the late morning. A direct thought here is that the avg_mph is at its peak there because there are fewer taxies in the late morning. However, there might be a confounder as \"number of vehicles in general\", and there are generally more variables that affect avg_mph. I, personally, presume that many people are asleep in the late morning, so taxi drivers have more space on the road, and hence, can drive quicker."
   ]
  }
 ],
 "metadata": {
  "kernelspec": {
   "display_name": "Python 3",
   "language": "python",
   "name": "python3"
  },
  "language_info": {
   "codemirror_mode": {
    "name": "ipython",
    "version": 3
   },
   "file_extension": ".py",
   "mimetype": "text/x-python",
   "name": "python",
   "nbconvert_exporter": "python",
   "pygments_lexer": "ipython3",
   "version": "3.7.12"
  },
  "papermill": {
   "default_parameters": {},
   "duration": 19.782705,
   "end_time": "2022-01-20T06:08:55.416544",
   "environment_variables": {},
   "exception": null,
   "input_path": "__notebook__.ipynb",
   "output_path": "__notebook__.ipynb",
   "parameters": {},
   "start_time": "2022-01-20T06:08:35.633839",
   "version": "2.3.3"
  }
 },
 "nbformat": 4,
 "nbformat_minor": 5
}
